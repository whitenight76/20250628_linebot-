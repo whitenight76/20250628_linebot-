{
 "cells": [
  {
   "cell_type": "markdown",
   "id": "8c372951",
   "metadata": {},
   "source": [
    "### pythin 儲存資料\n",
    "- 變數\n",
    "- list\n",
    "- dist\n"
   ]
  },
  {
   "cell_type": "code",
   "execution_count": 1,
   "id": "beb9134b",
   "metadata": {},
   "outputs": [
    {
     "name": "stdout",
     "output_type": "stream",
     "text": [
      "建立變數\n",
      "變數內容: Python\n",
      "變數類型: <class 'str'>\n",
      "變數長度: 6\n"
     ]
    }
   ],
   "source": [
    "print(\"建立變數\")\n",
    "name = \"Python\"\n",
    "print(\"變數內容:\", name)\n",
    "print(\"變數類型:\", type(name))\n",
    "print(\"變數長度:\", len(name))"
   ]
  },
  {
   "cell_type": "code",
   "execution_count": 2,
   "id": "84b74165",
   "metadata": {},
   "outputs": [
    {
     "name": "stdout",
     "output_type": "stream",
     "text": [
      "1 | 5.0 | Hello | True.\n"
     ]
    }
   ],
   "source": [
    "print(1, 5.0, \"Hello\", True, end=\".\\n\", sep=\" | \")"
   ]
  }
 ],
 "metadata": {
  "kernelspec": {
   "display_name": "raspi16",
   "language": "python",
   "name": "python3"
  },
  "language_info": {
   "codemirror_mode": {
    "name": "ipython",
    "version": 3
   },
   "file_extension": ".py",
   "mimetype": "text/x-python",
   "name": "python",
   "nbconvert_exporter": "python",
   "pygments_lexer": "ipython3",
   "version": "3.11.13"
  }
 },
 "nbformat": 4,
 "nbformat_minor": 5
}
