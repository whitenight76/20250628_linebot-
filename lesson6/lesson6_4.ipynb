{
 "cells": [
  {
   "cell_type": "code",
   "execution_count": 18,
   "id": "44ad21d4",
   "metadata": {},
   "outputs": [
    {
     "name": "stdout",
     "output_type": "stream",
     "text": [
      "=====AI的回應=====\n"
     ]
    },
    {
     "data": {
      "text/markdown": [
       "簡單來說，**網路爬蟲 (Web Crawler)** 就是一個程式，負責**自動地從網站在特定模式下抓取、瀏覽和整理網頁**。\n",
       "\n",
       "想像一下，你需要整理一個網站上的所有頁面，但是你無法用傳統的瀏覽器快速地瀏覽所有頁面，你需要一個程式來幫你。網路爬蟲就像這個程式一樣。\n",
       "\n",
       "**以下是更詳細的解釋：**\n",
       "\n",
       "* **自動化抓取:** 網路爬蟲會根據設定好的規則，自動地從網站在不同的位置抓取頁面。\n",
       "* **瀏覽和整理:** 爬蟲會先瀏覽這些頁面，然後將這些頁面整理成一個檔案 (例如 CSV, JSON 等)，方便後續分析。\n",
       "* **獲取數據:** 爬蟲可以從網頁中獲取各種資料，例如文字、圖片、連結等。\n",
       "\n",
       "**舉例：**\n",
       "\n",
       "你可以想像一個爬蟲就像一個隨機瀏覽網站，但它會根據你設定的規則，自動地爬取並整理所有頁面。\n",
       "\n",
       "**應用：**\n",
       "\n",
       "網路爬蟲被廣泛應用於各種領域，例如：\n",
       "\n",
       "* **資料蒐集:** 收集數據，例如新聞、商品價格、社交媒體資料等。\n",
       "* **網頁分析:** 了解網站的結構和內容。\n",
       "* **SEO (搜尋引擎優化):** 分析網站的搜尋結果排名。\n",
       "* **市場調查:** 收集競爭對手的網站資料。\n",
       "\n",
       "總之，網路爬蟲是一個非常重要的工具，可以幫助我們從網站在特定模式下獲取大量資料。\n",
       "\n",
       "希望這個解釋對你有所幫助！\n"
      ],
      "text/plain": [
       "<IPython.core.display.Markdown object>"
      ]
     },
     "metadata": {},
     "output_type": "display_data"
    }
   ],
   "source": [
    "import requests\n",
    "#import pprint\n",
    "from IPython.display import Markdown, display\n",
    "\n",
    "def generate_with_ollama(prompt:str)-> None:\n",
    "\n",
    "    url = \"http://localhost:11434/api/generate\"\n",
    "    payload = {\n",
    "        \"model\":\"gemma3:1b\",\n",
    "        \"prompt\": prompt,\n",
    "        \"stream\":False\n",
    "    }\n",
    "    response = requests.post(url,json=payload)\n",
    "    result = response.json()\n",
    "    #print(type(result))\n",
    "    #pprint(result)\n",
    "    print(\"=====AI的回應=====\")\n",
    "    display(Markdown(result['response']))\n",
    "\n",
    "generate_with_ollama(\"請簡單解釋什麼是網路爬蟲？\")"
   ]
  }
 ],
 "metadata": {
  "kernelspec": {
   "display_name": "raspi16",
   "language": "python",
   "name": "python3"
  },
  "language_info": {
   "codemirror_mode": {
    "name": "ipython",
    "version": 3
   },
   "file_extension": ".py",
   "mimetype": "text/x-python",
   "name": "python",
   "nbconvert_exporter": "python",
   "pygments_lexer": "ipython3",
   "version": "3.12.11"
  }
 },
 "nbformat": 4,
 "nbformat_minor": 5
}
