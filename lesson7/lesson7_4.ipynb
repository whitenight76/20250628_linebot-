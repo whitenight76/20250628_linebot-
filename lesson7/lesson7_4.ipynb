{
 "cells": [
  {
   "cell_type": "code",
   "execution_count": 3,
   "id": "9bdf1b6f",
   "metadata": {},
   "outputs": [
    {
     "data": {
      "text/markdown": [
       "這個可愛的紫色獨眼生物叫做 **パキッとな (Pakittona)**。\n",
       "\n",
       "它不是一種真實的動物，而是**日本住宅金融支援機構（住宅金融支援機構）的官方吉祥物**。\n",
       "\n",
       "以下是關於它的一些資訊：\n",
       "\n",
       "1.  **名稱由來：** 它的名字「パキッとな (Pakittona)」源於日語的狀聲詞「パキッ (pakki)」，這個聲音通常用來形容東西「咔嚓」一聲斷裂或折斷的聲音。這個概念代表著打破困難、解決複雜問題，以及將複雜的事情變得簡單明瞭。而「とな」則是一個親切的語氣助詞。\n",
       "\n",
       "2.  **外觀特徵：**\n",
       "    *   **獨眼：** 它只有一個大大的眼睛，是其最顯著的特徵。\n",
       "    *   **紫色身體：** 圓潤的紫色身體讓它看起來很可愛。\n",
       "    *   **頭巾：** 頭上綁著白色的頭巾，這種頭巾在日本稱為「鉢巻（はちまき）」，通常代表著專注、努力和決心。\n",
       "    *   **尾巴與腳：** 有一條小小的捲曲尾巴和四隻小腳。\n",
       "    *   **嘴巴：** 嘴巴微張，露出小小的牙齒，顯得很活潑。\n",
       "    *   **動作：** 圖片中它正在「パキッ」一聲折斷或撕裂一張紙片，這正是其名字的由來和職責的象徵。\n",
       "\n",
       "3.  **角色與職責：**\n",
       "    *   作為住宅金融支援機構的吉祥物，它的主要任務是**將複雜的住宅貸款和金融資訊變得簡單易懂，幫助人們解決在申請住房貸款時遇到的各種困難和疑惑**。\n",
       "    *   它用「咔嚓」折斷紙張的動作，象徵著將複雜的表格、難懂的條款「分解」、「簡化」，讓民眾更容易理解和處理。\n",
       "\n",
       "總的來說，パキッとな是一個代表著「簡化」、「解決問題」和「提供幫助」的可愛吉祥物，旨在讓複雜的金融服務更加親民。"
      ],
      "text/plain": [
       "<IPython.core.display.Markdown object>"
      ]
     },
     "metadata": {},
     "output_type": "display_data"
    }
   ],
   "source": [
    "import PIL.Image\n",
    "from google import genai\n",
    "from IPython.display import display, Markdown\n",
    "\n",
    "client = genai.Client()\n",
    "image = PIL.Image.open('unnamed.png')\n",
    "response = client.models.generate_content(\n",
    "    model=\"gemini-2.5-flash\",\n",
    "    contents=[image,\"請告訴我這是什麼動物,還有關於它的一些資訊\"]\n",
    ")\n",
    "\n",
    "display(Markdown(response.text))"
   ]
  }
 ],
 "metadata": {
  "kernelspec": {
   "display_name": "raspi16",
   "language": "python",
   "name": "python3"
  },
  "language_info": {
   "codemirror_mode": {
    "name": "ipython",
    "version": 3
   },
   "file_extension": ".py",
   "mimetype": "text/x-python",
   "name": "python",
   "nbconvert_exporter": "python",
   "pygments_lexer": "ipython3",
   "version": "3.12.11"
  }
 },
 "nbformat": 4,
 "nbformat_minor": 5
}
