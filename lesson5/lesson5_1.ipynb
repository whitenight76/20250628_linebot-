{
 "cells": [
  {
   "cell_type": "code",
   "execution_count": 1,
   "id": "61b95f81",
   "metadata": {},
   "outputs": [
    {
     "name": "stdout",
     "output_type": "stream",
     "text": [
      "💬 AI 回應：\n",
      "{'model': 'gemma3:1b', 'created_at': '2025-07-26T06:00:50.225082474Z', 'response': '{\\n\"解釋\": \"Python 的函式就像是程式碼的指令，它們會做一些特定的事情。你可以把它想像成一個小遊戲，你告訴它要做什麼，它就會執行。 就像你給一個玩具，它會按照你的指示動作。 函式可以做很多事情，比如：**計算、讀取檔案、顯示訊息等等**。  你可以重複地使用這些函式，不需要重新寫程式，這樣就能節省時間。\"\\n}', 'done': True, 'done_reason': 'stop', 'context': [105, 2364, 107, 239230, 237105, 74624, 48280, 185411, 26549, 237026, 32651, 236918, 238780, 237522, 237536, 106, 107, 105, 4368, 107, 236782, 107, 236775, 185411, 1083, 623, 32651, 10363, 238780, 237522, 55326, 237026, 47972, 240897, 236918, 81582, 236900, 162576, 238003, 237893, 18303, 172612, 25606, 236924, 71407, 91033, 103146, 237283, 19966, 237369, 49704, 236900, 237408, 146132, 238010, 137162, 26549, 236900, 238010, 79147, 78204, 236924, 236743, 55326, 237408, 238966, 19966, 104346, 236900, 238010, 238003, 39974, 22276, 96180, 70190, 236924, 236743, 238780, 237522, 5157, 237893, 15873, 25606, 236900, 30546, 237184, 1018, 44068, 236951, 240588, 237653, 89347, 236951, 105832, 203984, 54971, 1018, 236924, 138, 71407, 174322, 237307, 5938, 52426, 238780, 237522, 236900, 72889, 37502, 240564, 47972, 236900, 42991, 55161, 239190, 238669, 13413, 165220, 107, 236783], 'total_duration': 26871527543, 'load_duration': 13881914633, 'prompt_eval_count': 21, 'prompt_eval_duration': 798626782, 'eval_count': 101, 'eval_duration': 11824836870}\n",
      "{\n",
      "\"解釋\": \"Python 的函式就像是程式碼的指令，它們會做一些特定的事情。你可以把它想像成一個小遊戲，你告訴它要做什麼，它就會執行。 就像你給一個玩具，它會按照你的指示動作。 函式可以做很多事情，比如：**計算、讀取檔案、顯示訊息等等**。  你可以重複地使用這些函式，不需要重新寫程式，這樣就能節省時間。\"\n",
      "}\n"
     ]
    }
   ],
   "source": [
    "import requests\n",
    "\n",
    "def chat_with_ollama(prompt: str):\n",
    "    url = \"http://localhost:11434/api/generate\"\n",
    "    payload = {\n",
    "        \"model\": \"gemma3:1b\",\n",
    "        \"prompt\": prompt,\n",
    "        \"stream\": False,\n",
    "        \"options\": { #參考說明1\n",
    "            \"temperature\": 0.7,\n",
    "            \"top_p\": 0.9,\n",
    "            \"top_k\": 50,\n",
    "        },\n",
    "        \"max_tokens\": 100,\n",
    "        \"format\": \"json\",\n",
    "    }\n",
    "\n",
    "    response = requests.post(url, json=payload)\n",
    "    result = response.json()\n",
    "    print(\"💬 AI 回應：\")\n",
    "    # Print the whole result for debugging\n",
    "    print(result)\n",
    "    # Try to print the 'response' key if it exists, otherwise print possible keys\n",
    "    if \"response\" in result:\n",
    "        print(result[\"response\"])\n",
    "    elif \"message\" in result:\n",
    "        print(result[\"message\"])\n",
    "    elif \"content\" in result:\n",
    "        print(result[\"content\"])\n",
    "    else:\n",
    "        print(\"No expected key found in response. Available keys:\", result.keys())\n",
    "\n",
    "#範例輸入\n",
    "chat_with_ollama(\"請用簡單的方式解釋什麼是Python的函式？\")"
   ]
  },
  {
   "cell_type": "code",
   "execution_count": 15,
   "id": "a6e8fdd6",
   "metadata": {},
   "outputs": [
    {
     "ename": "SyntaxError",
     "evalue": "invalid syntax (3225433309.py, line 4)",
     "output_type": "error",
     "traceback": [
      "  \u001b[36mCell\u001b[39m\u001b[36m \u001b[39m\u001b[32mIn[15]\u001b[39m\u001b[32m, line 4\u001b[39m\n\u001b[31m    \u001b[39m\u001b[31murl=https://github.com/open-webui/open-webui\u001b[39m\n             ^\n\u001b[31mSyntaxError\u001b[39m\u001b[31m:\u001b[39m invalid syntax\n"
     ]
    }
   ],
   "source": [
    "import requests\n",
    "\n",
    "# 發送 GET 請求\n",
    "url=https://github.com/open-webui/open-webui\n",
    "\n",
    "response = requests.get(url)#引述值得呼叫\n",
    "#type(response) #檢查回應類型\n",
    "# 檢查狀態碼\n",
    "if response.status_code == 200:\n",
    "    # 獲取並印出網頁內容\n",
    "    print(response.text)\n",
    "else:\n",
    "    print(f\"請求失敗，狀態碼: {response.status_code}\")\n",
    "\n",
    "#requests.get(url=url)引述名稱呼叫\n",
    "\n"
   ]
  }
 ],
 "metadata": {
  "kernelspec": {
   "display_name": "raspi16",
   "language": "python",
   "name": "python3"
  },
  "language_info": {
   "codemirror_mode": {
    "name": "ipython",
    "version": 3
   },
   "file_extension": ".py",
   "mimetype": "text/x-python",
   "name": "python",
   "nbconvert_exporter": "python",
   "pygments_lexer": "ipython3",
   "version": "3.12.11"
  }
 },
 "nbformat": 4,
 "nbformat_minor": 5
}
